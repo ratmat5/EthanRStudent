{
 "cells": [
  {
   "cell_type": "markdown",
   "metadata": {},
   "source": [
    "---\n",
    "toc: false\n",
    "comments: false\n",
    "layout: post\n",
    "title: Boolean, If Lesson\n",
    "description: Team LEIA\n",
    "type: hacks\n",
    "courses: { compsci: {week: 8} }\n",
    "---"
   ]
  },
  {
   "cell_type": "markdown",
   "metadata": {},
   "source": [
    "# Boolean\n",
    "\n",
    "- A Boolean value is either true or false.\n",
    "- A Boolean expression produces a Boolean value (true or false) when evaluated."
   ]
  },
  {
   "cell_type": "markdown",
   "metadata": {},
   "source": [
    "## <mark>Conditional (\"if\") statements</mark>\n",
    "\n",
    "- Affect the sequential flow of control by executing different statements based on the value of a Boolean expression."
   ]
  },
  {
   "cell_type": "code",
   "execution_count": null,
   "metadata": {
    "vscode": {
     "languageId": "html"
    }
   },
   "outputs": [],
   "source": [
    "IF (condition)\n",
    "{\n",
    "\t<block of statements>\n",
    "}\n",
    "\n",
    "The code in <block of statements> is executed if the Boolean expression condition evaluates to true; no action is taken if condition evaluates to false.\n",
    "\n",
    "IF (condition)\n",
    "{\n",
    "\t<block of statements>\n",
    "}\n",
    "ELSE\n",
    "{\n",
    "\t<second block of statements>\n",
    "}\n",
    "\n",
    "The code in the first <block of statements> is executed if the Boolean expression condition evaluates to true; otherwise, the code in <second block of statements> is executed."
   ]
  },
  {
   "cell_type": "markdown",
   "metadata": {},
   "source": [
    "<b>Example:</b> Calculate the sum of 2 numbers. If the sum is greater than 10, display 10; otherwise, display the sum."
   ]
  },
  {
   "cell_type": "code",
   "execution_count": null,
   "metadata": {
    "vscode": {
     "languageId": "html"
    }
   },
   "outputs": [],
   "source": [
    "num1 = INPUT\n",
    "num2 = INPUT\n",
    "sum = num1 + num2\n",
    "IF (sum > 10)\n",
    "{\n",
    "\tDISPLAY (10)\n",
    "}\n",
    "ELSE\n",
    "{\n",
    "\tDISPLAY (sum)\n",
    "}"
   ]
  },
  {
   "cell_type": "markdown",
   "metadata": {},
   "source": [
    "# Hack 1\n",
    "\n",
    "- Add a variable that represents an age.\n",
    "\n",
    "- Add an 'if' and 'print' function that says \"You are an adult\" if your age is greater than or equal to 18.\n",
    "\n",
    "- Make a function that prints \"You are a minor\" with the else function."
   ]
  },
  {
   "cell_type": "code",
   "execution_count": 2,
   "metadata": {},
   "outputs": [
    {
     "name": "stdout",
     "output_type": "stream",
     "text": [
      "You are a minor\n"
     ]
    }
   ],
   "source": [
    "## YOUR CODE HERE\n",
    "age = 16\n",
    "if age >= 18:\n",
    "    print(\"You are an adult\")\n",
    "else: \n",
    "    print(\"You are a minor\")\n",
    " "
   ]
  },
  {
   "cell_type": "markdown",
   "metadata": {},
   "source": [
    "## <mark><b>Relational operators:</b></mark> \n",
    "- Used to test the relationship between 2 variables, expressions, or values. These relational operators are used for comparisons and they evaluate to a Boolean value (true or false).\n",
    "\n",
    "<b>Ex.</b> a == b evaluates to true if a and b are equal, otherwise evaluates to false\n",
    "\n",
    "- a == b (equals)\t\n",
    "- a != b (not equal to)\n",
    "- a > b (greater than)\n",
    "- a < b (less than)\n",
    "- a >= b (greater than or equal to)\n",
    "- a <= b (less than or equal to)"
   ]
  },
  {
   "cell_type": "markdown",
   "metadata": {},
   "source": [
    "<b>Example:</b> The legal age to work in California is 14 years old. How would we write a Boolean expression to check if someone is at least 14 years old?\n",
    "\n",
    "age >= 14"
   ]
  },
  {
   "cell_type": "markdown",
   "metadata": {},
   "source": [
    "<b>Example:</b> Write a Boolean expression to check if the average of height1, height2, and height3 is at least 65 inches.\n",
    "\n",
    "(height1 + height2 + height3) / 3 >= 65"
   ]
  },
  {
   "cell_type": "markdown",
   "metadata": {},
   "source": [
    "# Hack 2\n",
    "\n",
    "- Make a variable called 'is_raining' and set it to 'True\".\n",
    "\n",
    "- Make an if statement that prints \"Bring an umbrella!\" if it is true\n",
    "\n",
    "- Make an else statement that says \"The weather is clear\"."
   ]
  },
  {
   "cell_type": "code",
   "execution_count": 6,
   "metadata": {},
   "outputs": [
    {
     "name": "stdout",
     "output_type": "stream",
     "text": [
      "Bring an umbrella\n"
     ]
    }
   ],
   "source": [
    "## YOUR CODE HERE\n",
    "is_raining = True\n",
    "\n",
    "if is_raining:\n",
    "    print(\"Bring an umbrella\")\n",
    "else:\n",
    "    print(\"The weather is clear\")"
   ]
  },
  {
   "cell_type": "markdown",
   "metadata": {},
   "source": [
    "## <mark><b>Logical operators:</b></mark>\n",
    "Used to evaluate multiple conditions to produce a single Boolean value.\n",
    "\n",
    "- <b>NOT</b>\tevaluates to true if condition is false, otherwise evaluates to false\n",
    "- <b>AND</b>\tevaluates to true if both conditions are true, otherwise evaluates to false\n",
    "- <b>OR</b>\tevaluates to true if either condition is true or if both conditions are true, otherwise evaluates to false"
   ]
  },
  {
   "cell_type": "markdown",
   "metadata": {},
   "source": [
    "<b>Example:</b> You win the game if you score at least 10 points and have 5 lives left or if you score at least 50 points and have more than 0 lives left. Write the Boolean expression for this scenario.\n",
    "\n",
    "(score >= 10 AND lives == 5) OR (score == 50 AND lives > 0)"
   ]
  },
  {
   "cell_type": "markdown",
   "metadata": {},
   "source": [
    "## <mark><b>Relational and logical operators:</b></mark>\n",
    "\n",
    "<b>Example:</b> These expressions are all different but will produce the same result.\n",
    "\n",
    "- age >= 16\n",
    "- age > 16 OR age == 16\n",
    "- NOT age < 16"
   ]
  },
  {
   "cell_type": "markdown",
   "metadata": {},
   "source": [
    "# Hack 3\n",
    "\n",
    "- Make a function to randomize numbers between 0 and 100 to be assigned to variables a and b using random.randint\n",
    "\n",
    "- Print the values of the variables\n",
    "\n",
    "- Print the relationship of the variables; a is more than, same as, or less than b"
   ]
  },
  {
   "cell_type": "code",
   "execution_count": null,
   "metadata": {},
   "outputs": [],
   "source": [
    "## YOUR CODE HERE"
   ]
  },
  {
   "cell_type": "markdown",
   "metadata": {},
   "source": [
    "## <b>Homework</b>\n",
    "\n",
    "### Criteria for above 90%:\n",
    "- Add more questions relating to Boolean rather than only one per topic (ideas: expand on conditional statements, relational/logical operators)\n",
    "- Add a way to organize the user scores (possibly some kind of leaderboard, keep track of high score vs. current score, etc. Get creative!)\n",
    "- Remember to test your code to make sure it functions correctly."
   ]
  },
  {
   "cell_type": "code",
   "execution_count": 4,
   "metadata": {},
   "outputs": [
    {
     "name": "stdout",
     "output_type": "stream",
     "text": [
      "Hello, ethan running /opt/homebrew/opt/python@3.11/bin/python3.11\n",
      "You will be asked 5 questions.\n",
      "Question: What are the possible values of a Boolean in Python?\n",
      "a) True\n",
      "b) False\n",
      "Correct!\n",
      "Question: Why are Boolean expressions important in programming?\n",
      "a) To represent truth values\n",
      "b) To perform arithmetic operations\n",
      "c) To format text\n",
      "d) To store lists\n",
      "Correct!\n",
      "Question: What is the purpose of conditional (if-else) statements in programming?\n",
      "a) To control program flow\n",
      "b) To declare variables\n",
      "c) To perform calculations\n",
      "d) To print output\n",
      "Incorrect. The correct answer is a.\n",
      "Question: Name some common relational operators in programming and provide an example.\n",
      "a) <, >, ==\n",
      "b) &&, ||, !\n",
      "c) ++, --\n",
      "d) +, -\n",
      "Correct!\n",
      "Question: Explain the use of logical operators in programming and provide an example.\n",
      "a) To combine boolean expressions\n",
      "b) To perform mathematical operations\n",
      "c) To format text\n",
      "d) To declare variables\n",
      "Correct!\n",
      "ethan, you scored 4/5 (80.0%)\n"
     ]
    }
   ],
   "source": [
    "# Import necessary modules\n",
    "import getpass  # Module to get the user's name\n",
    "import sys  # Module to access system-related information\n",
    "\n",
    "# Function to ask a multiple-choice question and get a response\n",
    "def question_multiple_choice(prompt, options, correct_option):\n",
    "    # Print the question and options\n",
    "    print(\"Question: \" + prompt)\n",
    "    for i, option in enumerate(options, start=97):  # Use ASCII values a=97, b=98, ...\n",
    "        print(chr(i) + \") \" + option)\n",
    "\n",
    "    # Get user input as the response\n",
    "    response = input(\"Your answer (a, b, c, or d): \").lower()\n",
    "    if response == correct_option:\n",
    "        print(\"Correct!\")\n",
    "        return 1\n",
    "    else:\n",
    "        print(\"Incorrect. The correct answer is \" + correct_option + \".\")\n",
    "        return 0\n",
    "\n",
    "# Define the number of questions and initialize the correct answers counter\n",
    "questions = 5\n",
    "correct = 0\n",
    "\n",
    "# Personalized greeting message\n",
    "# Collect the student's name\n",
    "user_name = input(\"Enter your name: \")\n",
    "print('Hello, ' + user_name + \" running \" + sys.executable)\n",
    "print(\"You will be asked \" + str(questions) + \" questions.\")\n",
    "answer = input(\"Are you ready to take a test?\")\n",
    "\n",
    "# Question 1: Boolean Basics\n",
    "# Ask a multiple-choice question about Boolean values and check the response\n",
    "options_1 = [\"True\", \"False\"]\n",
    "correct_option_1 = \"a\"\n",
    "correct += question_multiple_choice(\"What are the possible values of a Boolean in Python?\", options_1, correct_option_1)\n",
    "\n",
    "# Question 2: Boolean Expressions\n",
    "# Ask a multiple-choice question about Boolean expressions and their importance in programming\n",
    "options_2 = [\"To represent truth values\", \"To perform arithmetic operations\", \"To format text\", \"To store lists\"]\n",
    "correct_option_2 = \"a\"\n",
    "correct += question_multiple_choice(\"Why are Boolean expressions important in programming?\", options_2, correct_option_2)\n",
    "\n",
    "# Question 3: Conditional Statements\n",
    "# Ask a multiple-choice question about the purpose of conditional (if-else) statements in programming\n",
    "options_3 = [\"To control program flow\", \"To declare variables\", \"To perform calculations\", \"To print output\"]\n",
    "correct_option_3 = \"a\"\n",
    "correct += question_multiple_choice(\"What is the purpose of conditional (if-else) statements in programming?\", options_3, correct_option_3)\n",
    "\n",
    "# Question 4: Relational Operators\n",
    "# Ask a multiple-choice question about common relational operators in programming and provide examples\n",
    "options_4 = [\"<, >, ==\", \"&&, ||, !\", \"++, --\", \"+, -\"]\n",
    "correct_option_4 = \"a\"\n",
    "correct += question_multiple_choice(\"Name some common relational operators in programming and provide an example.\", options_4, correct_option_4)\n",
    "\n",
    "# Question 5: Logical Operators\n",
    "# Ask a multiple-choice question about the use of logical operators in programming and provide examples\n",
    "options_5 = [\"To combine boolean expressions\", \"To perform mathematical operations\", \"To format text\", \"To declare variables\"]\n",
    "correct_option_5 = \"a\"\n",
    "correct += question_multiple_choice(\"Explain the use of logical operators in programming and provide an example.\", options_5, correct_option_5)\n",
    "\n",
    "# Display the final score\n",
    "# Calculate the percentage of correct answers and provide feedback\n",
    "percentage_correct = (correct / questions) * 100\n",
    "print(user_name + \", you scored \" + str(correct) + \"/\" + str(questions) + \" (\" + str(percentage_correct) + \"%)\")"
   ]
  }
 ],
 "metadata": {
  "kernelspec": {
   "display_name": "Python 3",
   "language": "python",
   "name": "python3"
  },
  "language_info": {
   "codemirror_mode": {
    "name": "ipython",
    "version": 3
   },
   "file_extension": ".py",
   "mimetype": "text/x-python",
   "name": "python",
   "nbconvert_exporter": "python",
   "pygments_lexer": "ipython3",
   "version": "3.11.5"
  }
 },
 "nbformat": 4,
 "nbformat_minor": 2
}
