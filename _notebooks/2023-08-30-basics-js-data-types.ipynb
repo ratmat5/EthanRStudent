{
 "cells": [
  {
   "cell_type": "raw",
   "metadata": {},
   "source": [
    "---\n",
    "title: Javascript Data Types/Lists\n",
    "hide: True\n",
    "description: A Tech Talk on javascript data types and how to use with lists\n",
    "type: ccc\n",
    "permalink: /basics/datatypes\n",
    "author: Rohan Juneja\n",
    "---"
   ]
  },
  {
   "cell_type": "raw",
   "metadata": {},
   "source": [
    "{% include nav_basics.html %}\n"
   ]
  },
  {
   "cell_type": "markdown",
   "metadata": {},
   "source": [
    "# string datatype\n",
    "- We discussed that strings store text\n",
    "- It is useful to know a few functions that can be used on string manipulation (see example below)\n",
    "- We can see the type of data using `typeof` operator"
   ]
  },
  {
   "cell_type": "code",
   "execution_count": 2,
   "metadata": {
    "vscode": {
     "languageId": "javascript"
    }
   },
   "outputs": [
    {
     "data": {
      "application/javascript": "\n// assign variable\nvar hello = \"Hello World\";\nconsole.log(\"variable: hello\")\nconsole.log(hello)\n\n// seeing the type of this data\nconsole.log(\"variable: hello check typeof\")\nconsole.log(typeof hello)\n\n// add strings together\nconsole.log(\"string concatenation: hello + Rohan!\")\nconsole.log(hello + \" Rohan!\")\n",
      "text/plain": [
       "<IPython.core.display.Javascript object>"
      ]
     },
     "metadata": {},
     "output_type": "display_data"
    }
   ],
   "source": [
    "%%js\n",
    "\n",
    "// assign variable\n",
    "var hello = \"Hello World\";\n",
    "console.log(\"variable: hello\")\n",
    "console.log(hello)\n",
    "\n",
    "// seeing the type of this data\n",
    "console.log(\"variable: hello check typeof\")\n",
    "console.log(typeof hello)\n",
    "\n",
    "// add strings together\n",
    "console.log(\"string concatenation: hello + Rohan!\")\n",
    "console.log(hello + \" Rohan!\")"
   ]
  },
  {
   "cell_type": "markdown",
   "metadata": {},
   "source": [
    "## .substring()"
   ]
  },
  {
   "cell_type": "code",
   "execution_count": 3,
   "metadata": {
    "vscode": {
     "languageId": "javascript"
    }
   },
   "outputs": [
    {
     "data": {
      "application/javascript": "var hello = \"Hello World\";\n\n// getting a certain component of this text\n// (here the _ is a standin for the space character)\n// H  e  l  l  o  _  W  o  r  l  d\n// 0  1  2  3  4  5  6  7  8  9  10\n// if we want the hello component, we want characters 0-4, so we use the following function\n// (note how we use 0 and 5 as arguments, the last character is NOT INCLUSIVE)\nconsole.log(\"substring: hello 0, 5\")\nconsole.log(hello.substring(0, 5))\n",
      "text/plain": [
       "<IPython.core.display.Javascript object>"
      ]
     },
     "metadata": {},
     "output_type": "display_data"
    }
   ],
   "source": [
    "%%js\n",
    "var hello = \"Hello World\";\n",
    "\n",
    "// getting a certain component of this text\n",
    "// (here the _ is a standin for the space character)\n",
    "// H  e  l  l  o  _  W  o  r  l  d\n",
    "// 0  1  2  3  4  5  6  7  8  9  10\n",
    "// if we want the hello component, we want characters 0-4, so we use the following function\n",
    "// (note how we use 0 and 5 as arguments, the last character is NOT INCLUSIVE)\n",
    "console.log(\"substring: hello 0, 5\")\n",
    "console.log(hello.substring(0, 5))"
   ]
  },
  {
   "cell_type": "markdown",
   "metadata": {},
   "source": [
    "## .toUpperCase() and .toLowerCase()"
   ]
  },
  {
   "cell_type": "code",
   "execution_count": 4,
   "metadata": {
    "vscode": {
     "languageId": "javascript"
    }
   },
   "outputs": [
    {
     "data": {
      "application/javascript": "var hello = \"Hello World\";\n\n// useful functions to make string lowercase or uppercase\nconsole.log(\"string convert to upper case: hello toUpperCase\")\nconsole.log(hello.toUpperCase())\nconsole.log(\"string convert to lower case: hello toLowerCase\")\nconsole.log(hello.toLowerCase())\n",
      "text/plain": [
       "<IPython.core.display.Javascript object>"
      ]
     },
     "metadata": {},
     "output_type": "display_data"
    }
   ],
   "source": [
    "%%js\n",
    "var hello = \"Hello World\";\n",
    "\n",
    "// useful functions to make string lowercase or uppercase\n",
    "console.log(\"string convert to upper case: hello toUpperCase\")\n",
    "console.log(hello.toUpperCase())\n",
    "console.log(\"string convert to lower case: hello toLowerCase\")\n",
    "console.log(hello.toLowerCase())"
   ]
  },
  {
   "cell_type": "markdown",
   "metadata": {},
   "source": [
    "## .includes()"
   ]
  },
  {
   "cell_type": "code",
   "execution_count": 5,
   "metadata": {
    "vscode": {
     "languageId": "javascript"
    }
   },
   "outputs": [
    {
     "data": {
      "application/javascript": "var hello = \"Hello World\";\n\n// useful function to check if one string is contained in another\nconsole.log(\"string includes: hello includes Rohan\")\nconsole.log(hello.includes(\"Rohan\"))\nconsole.log(\"string includes: hello includes Hello\")\nconsole.log(hello.includes(\"Hello\"))\n",
      "text/plain": [
       "<IPython.core.display.Javascript object>"
      ]
     },
     "metadata": {},
     "output_type": "display_data"
    }
   ],
   "source": [
    "%%js\n",
    "var hello = \"Hello World\";\n",
    "\n",
    "// useful function to check if one string is contained in another\n",
    "console.log(\"string includes: hello includes Rohan\")\n",
    "console.log(hello.includes(\"Rohan\"))\n",
    "console.log(\"string includes: hello includes Hello\")\n",
    "console.log(hello.includes(\"Hello\"))"
   ]
  },
  {
   "cell_type": "markdown",
   "metadata": {},
   "source": [
    "# number datatype\n",
    "- we discussed that numbers store numbers\n",
    "- here are some useful ideas in javascript to deal with numbers"
   ]
  },
  {
   "cell_type": "code",
   "execution_count": 6,
   "metadata": {
    "vscode": {
     "languageId": "javascript"
    }
   },
   "outputs": [
    {
     "data": {
      "application/javascript": "console.log(\"Numbers info\")\n\n// assign numbers to varialbes\nconsole.log(\"variable: num1\")\nvar num1 = 9\nconsole.log(num1)\nconsole.log(\"variable: num2\")\nvar num2 = 6\nconsole.log(num2)\n\n\n// simple operations with numbers\nconsole.log(\"Operations\")\nconsole.log(\"subtract: num1 - num2\")\nconsole.log(num1 - num2)\nconsole.log(\"add: num1 + num2\")\nconsole.log(num1 + num2)\nconsole.log(\"divide: num1 / num2\")\nconsole.log(num1 / num2)\nconsole.log(\"multiply: num1 * num2\")\nconsole.log(num1 * num2)\nconsole.log(\"remainder (modulo): num1 % num2\")\nconsole.log(num1 % num2)\n",
      "text/plain": [
       "<IPython.core.display.Javascript object>"
      ]
     },
     "metadata": {},
     "output_type": "display_data"
    }
   ],
   "source": [
    "%%js\n",
    "console.log(\"Numbers info\")\n",
    "\n",
    "// assign numbers to varialbes\n",
    "console.log(\"variable: num1\")\n",
    "var num1 = 9\n",
    "console.log(num1)\n",
    "console.log(\"variable: num2\")\n",
    "var num2 = 6\n",
    "console.log(num2)\n",
    "\n",
    "\n",
    "// simple operations with numbers\n",
    "console.log(\"Operations\")\n",
    "console.log(\"subtract: num1 - num2\")\n",
    "console.log(num1 - num2)\n",
    "console.log(\"add: num1 + num2\")\n",
    "console.log(num1 + num2)\n",
    "console.log(\"divide: num1 / num2\")\n",
    "console.log(num1 / num2)\n",
    "console.log(\"multiply: num1 * num2\")\n",
    "console.log(num1 * num2)\n",
    "console.log(\"remainder (modulo): num1 % num2\")\n",
    "console.log(num1 % num2)"
   ]
  },
  {
   "cell_type": "markdown",
   "metadata": {},
   "source": [
    "# number formatting"
   ]
  },
  {
   "cell_type": "code",
   "execution_count": null,
   "metadata": {
    "vscode": {
     "languageId": "javascript"
    }
   },
   "outputs": [],
   "source": [
    "%%js\n",
    "console.log(\"variable: num1\")\n",
    "var num1 = 9\n",
    "console.log(num1)\n",
    "console.log(\"variable: num2\")\n",
    "var num2 = 6\n",
    "console.log(num2)\n",
    "\n",
    "// converting numbers to text\n",
    "console.log(\"number convert string: num1\")\n",
    "console.log(num1.toString())\n",
    "\n",
    "// rounding a number\n",
    "console.log(\"round(num1 / num2)\")\n",
    "console.log(Math.round(num1 / num2))\n",
    "\n",
    "// rounding a number to decimal palces\n",
    "console.log(\"set decimals to 2 places (num1 / num2)\")\n",
    "console.log((num1 / num2).toFixed(2))"
   ]
  },
  {
   "cell_type": "markdown",
   "metadata": {},
   "source": [
    "# Array datatype\n",
    "- an array is just a list of other datatypes\n",
    "- put all the items in square brackets\n",
    "- some useful methods below"
   ]
  },
  {
   "cell_type": "code",
   "execution_count": 13,
   "metadata": {
    "vscode": {
     "languageId": "javascript"
    }
   },
   "outputs": [
    {
     "data": {
      "text/html": [
       "<script>\n",
       "console.log(\"Array: assigning a list of strings\")\n",
       "var str1 = \"1st string\"\n",
       "var arr_data = [str1, \"2nd string\", \"3rd string\"]\n",
       "// seeing what is in the array\n",
       "console.log(arr_data)\n",
       "\n",
       "// getting one thing from an array\n",
       "// \"A string\" \"Other Data\" \"more data\"\n",
       "//    0           1            2\n",
       "console.log(\"Array: referencing a cell #1\")\n",
       "console.log([ arr_data[1] ])  // zero based counting: 1 is 2nd cell\n",
       "\n",
       "// adding something new to the array\n",
       "console.log(\"Array: adding to list\")\n",
       "arr_data.push(\"4th string\")\n",
       "console.log(arr_data)\n",
       "\n",
       "// removing the first element of array\n",
       "console.log(\"Array: removing from front of list\")\n",
       "arr_data.shift()\n",
       "console.log(arr_data)\n",
       "\n",
       "// removing the last element of array\n",
       "console.log(\"Array: removing from end of list\")\n",
       "arr_data.pop()\n",
       "console.log(arr_data)\n",
       "</script>\n",
       "\n"
      ],
      "text/plain": [
       "<IPython.core.display.HTML object>"
      ]
     },
     "metadata": {},
     "output_type": "display_data"
    }
   ],
   "source": [
    "%%js\n",
    "console.log(\"Array: assigning a list of strings\")\n",
    "var str1 = \"1st string\"\n",
    "var arr_data = [str1, \"2nd string\", \"3rd string\"]\n",
    "// seeing what is in the array\n",
    "console.log(arr_data)\n",
    "\n",
    "// getting one thing from an array\n",
    "// \"A string\" \"Other Data\" \"more data\"\n",
    "//    0           1            2\n",
    "console.log(\"Array: referencing a cell #1\")\n",
    "console.log([ arr_data[1] ])  // zero based counting: 1 is 2nd cell\n"
   ]
  },
  {
   "cell_type": "markdown",
   "metadata": {},
   "source": [
    "# array manipulation"
   ]
  },
  {
   "cell_type": "code",
   "execution_count": 12,
   "metadata": {
    "vscode": {
     "languageId": "javascript"
    }
   },
   "outputs": [
    {
     "data": {
      "application/javascript": "console.log(\"Array: assigning a list of strings\")\nvar str1 = \"1st string\"\nvar arr_data = [str1, \"2nd string\", \"3rd string\"]\n// seeing what is in the array\nconsole.log(arr_data)\n\n// adding something new to the array\nconsole.log(\"Array: adding to list\")\narr_data.push(\"4th string\")\nconsole.log(arr_data)\n\n// removing the first element of array\nconsole.log(\"Array: removing from front of list\")\narr_data.shift()\nconsole.log(arr_data)\n\n// removing the last element of array\nconsole.log(\"Array: removing from end of list\")\narr_data.pop()\nconsole.log(arr_data)\n",
      "text/plain": [
       "<IPython.core.display.Javascript object>"
      ]
     },
     "metadata": {},
     "output_type": "display_data"
    }
   ],
   "source": [
    "%%js\n",
    "console.log(\"Array: assigning a list of strings\")\n",
    "var str1 = \"1st string\"\n",
    "var arr_data = [str1, \"2nd string\", \"3rd string\"]\n",
    "// seeing what is in the array\n",
    "console.log(arr_data)\n",
    "\n",
    "// adding something new to the array\n",
    "console.log(\"Array: adding to list\")\n",
    "arr_data.push(\"4th string\")\n",
    "console.log(arr_data)\n",
    "\n",
    "// removing the first element of array\n",
    "console.log(\"Array: removing from front of list\")\n",
    "arr_data.shift()\n",
    "console.log(arr_data)\n",
    "\n",
    "// removing the last element of array\n",
    "console.log(\"Array: removing from end of list\")\n",
    "arr_data.pop()\n",
    "console.log(arr_data)"
   ]
  },
  {
   "cell_type": "markdown",
   "metadata": {},
   "source": [
    "# Object datatype\n",
    "\n",
    "- store records as key-value pairs\n",
    "- are defined by enclosing data in curly braces `{}`\n",
    "- allow access and modification using dot `.` or square bracket `[]` notation"
   ]
  },
  {
   "cell_type": "code",
   "execution_count": 7,
   "metadata": {
    "vscode": {
     "languageId": "javascript"
    }
   },
   "outputs": [
    {
     "data": {
      "application/javascript": "console.log(\"Object: assigning key-value objects\")\nvar obj = {\n    name: \"Safin\",\n    age: 13\n};\n\n// The following is stored in the object called \"obj\"\n// {\n//     name: \"Safin\",\n//     age: 13\n// }\n//\n// The key \"name\" is associated with the string value \"Safin\"\n// The key \"age\" is associated with the number value 13\n// Notice that keys are of the type \"string\"\n\n// print obj to the console\nconsole.log(obj);\n// -> { name: 'Safin', age: 13 }\n// Notice that single quotes ' and double quotes \" can be used interchangeably\n",
      "text/plain": [
       "<IPython.core.display.Javascript object>"
      ]
     },
     "metadata": {},
     "output_type": "display_data"
    }
   ],
   "source": [
    "%%js\n",
    "console.log(\"Object: assigning key-value objects\")\n",
    "var obj = {\n",
    "    name: \"Safin\",\n",
    "    age: 13\n",
    "};\n",
    "\n",
    "// The following is stored in the object called \"obj\"\n",
    "// {\n",
    "//     name: \"Safin\",\n",
    "//     age: 13\n",
    "// }\n",
    "//\n",
    "// The key \"name\" is associated with the string value \"Safin\"\n",
    "// The key \"age\" is associated with the number value 13\n",
    "// Notice that keys are of the type \"string\"\n",
    "\n",
    "// print obj to the console\n",
    "console.log(obj);\n",
    "// -> { name: 'Safin', age: 13 }\n",
    "// Notice that single quotes ' and double quotes \" can be used interchangeably"
   ]
  },
  {
   "cell_type": "markdown",
   "metadata": {},
   "source": [
    "# object access"
   ]
  },
  {
   "cell_type": "code",
   "execution_count": 11,
   "metadata": {
    "vscode": {
     "languageId": "javascript"
    }
   },
   "outputs": [
    {
     "data": {
      "application/javascript": "console.log(\"Object: assigning key-value objects\")\nvar obj = {\n    name: \"Safin\",\n    age: 13\n};\n\n// The following is stored in the object called \"obj\"\n// {\n//     name: \"Safin\",\n//     age: 13\n// }\n//\n// The key \"name\" is associated with the string value \"Safin\"\n// The key \"age\" is associated with the number value 13\n// Notice that keys are of the type \"string\"\n\n// print obj to the console\nconsole.log(obj);\n// -> { name: 'Safin', age: 13 }\n// Notice that single quotes ' and double quotes \" can be used interchangeably\n\n// To access certain values within an object, also known as an object's fields,\n// you can use the name of the object suffixed with a dot and the name of the field\n// or using the square bracket notation shown below\nconsole.log(\"Object: using key name to access the name value (key notation)\")\nconsole.log(obj[\"name\"]);\nconsole.log(\"Object: using key name to access the name value (dot notation)\")\nconsole.log(obj.name);\n// -> Safin\n\n// Fields of an object can be manipulated similar to variables\nconsole.log(\"Object: mutating the key name from Safin to John\")\nobj.name = \"John\"\nconsole.log(obj);\nconsole.log(obj.name);\n// -> John\n\n// A key-value pair can be added to the object\nconsole.log(\"Object: mutating the key name from Safin to John\")\nobj[\"ghid\"] = \"jm1021\"\nconsole.log(obj);\n// Observe new key\n",
      "text/plain": [
       "<IPython.core.display.Javascript object>"
      ]
     },
     "metadata": {},
     "output_type": "display_data"
    }
   ],
   "source": [
    "%%js\n",
    "console.log(\"Object: assigning key-value objects\")\n",
    "var obj = {\n",
    "    name: \"Safin\",\n",
    "    age: 13\n",
    "};\n",
    "\n",
    "// The following is stored in the object called \"obj\"\n",
    "// {\n",
    "//     name: \"Safin\",\n",
    "//     age: 13\n",
    "// }\n",
    "//\n",
    "// The key \"name\" is associated with the string value \"Safin\"\n",
    "// The key \"age\" is associated with the number value 13\n",
    "// Notice that keys are of the type \"string\"\n",
    "\n",
    "// print obj to the console\n",
    "console.log(obj);\n",
    "// -> { name: 'Safin', age: 13 }\n",
    "// Notice that single quotes ' and double quotes \" can be used interchangeably\n",
    "\n",
    "// To access certain values within an object, also known as an object's fields,\n",
    "// you can use the name of the object suffixed with a dot and the name of the field\n",
    "// or using the square bracket notation shown below\n",
    "console.log(\"Object: using key name to access the name value (key notation)\")\n",
    "console.log(obj[\"name\"]);\n",
    "console.log(\"Object: using key name to access the name value (dot notation)\")\n",
    "console.log(obj.name);\n",
    "// -> Safin\n",
    "\n",
    "// Fields of an object can be manipulated similar to variables\n",
    "console.log(\"Object: mutating the key name from Safin to John\")\n",
    "obj.name = \"John\"\n",
    "console.log(obj);\n",
    "console.log(obj.name);\n",
    "// -> John\n",
    "\n",
    "// A key-value pair can be added to the object\n",
    "console.log(\"Object: mutating the key name from Safin to John\")\n",
    "obj[\"ghid\"] = \"jm1021\"\n",
    "console.log(obj);\n",
    "// Observe new key"
   ]
  },
  {
   "cell_type": "code",
   "execution_count": 34,
   "metadata": {
    "vscode": {
     "languageId": "javascript"
    }
   },
   "outputs": [
    {
     "data": {
      "application/javascript": "console.log(\"Object: assigning key-value\");\nvar obj = {\n    name: \"Ethan\",\n    age: 16,\n    currentClasses: [\"APES\", \"APCSP\", \"AP Calc AB\", \"Spanish 6\"],\n    interests: [\"basketball\"],\n    residence: \"Del Sur\",\n    school: \"Del Norte High School\"\n};\n\n// Print the entire object\nconsole.log(\"\\nOriginal Person Object:\");\nconsole.log(obj);\n\n// Manipulate the arrays within the object\nobj.currentClasses.push(\"English Literature\");\nobj.interests.push(\"videogames\");\nobj.interests.push(\"music\");\n\n// Print the object after manipulation\nconsole.log(\"\\nPerson Object After Manipulation:\");\nconsole.log(obj);\n\n// Perform mathematical operations on fields\nconst ageIn5Years = obj.age + 5;\nconst halfOfAge = obj.age / 2;\nconst modulusOfAge = obj.age % 7;\n\nconsole.log(\"\\nMathematical Operations:\");\nconsole.log(\"In 5 years, \" + obj.name + \" will be \" + ageIn5Years + \" years old.\");\nconsole.log(\"Half of \" + obj.name + \"'s age is \" + halfOfAge + \".\");\nconsole.log(\"The modulus of \" + obj.name + \"'s age divided by 7 is \" + modulusOfAge + \".\");\n\n// Use typeof to determine types of fields\nconst nameType = typeof obj.name;\nconst ageType = typeof obj.age;\nconst classType = typeof obj.currentClasses;\nconst interestType = typeof obj.interests;\n\nconsole.log(\"\\nField Types:\");\nconsole.log(\"The type of 'name' field is \" + nameType + \".\");\nconsole.log(\"The type of 'age' field is \" + ageType + \".\");\nconsole.log(\"The type of 'currentClasses' field is \" + classType + \".\");\nconsole.log(\"The type of 'interests' field is \" + interestType + \".\");\n",
      "text/plain": [
       "<IPython.core.display.Javascript object>"
      ]
     },
     "metadata": {},
     "output_type": "display_data"
    }
   ],
   "source": [
    "%%js\n",
    "console.log(\"Object: assigning key-value\");\n",
    "var obj = {\n",
    "    name: \"Ethan\",\n",
    "    age: 16,\n",
    "    currentClasses: [\"APES\", \"APCSP\", \"AP Calc AB\", \"Spanish 6\"],\n",
    "    interests: [\"basketball\"],\n",
    "    residence: \"Del Sur\",\n",
    "    school: \"Del Norte High School\"\n",
    "};\n",
    "\n",
    "// Print the entire object\n",
    "console.log(\"\\nOriginal Person Object:\");\n",
    "console.log(obj);\n",
    "\n",
    "// Manipulate the arrays within the object\n",
    "obj.currentClasses.push(\"English Literature\");\n",
    "obj.interests.push(\"videogames\");\n",
    "obj.interests.push(\"music\");\n",
    "\n",
    "// Print the object after manipulation\n",
    "console.log(\"\\nPerson Object After Manipulation:\");\n",
    "console.log(obj);\n",
    "\n",
    "// Perform mathematical operations on fields\n",
    "const ageIn5Years = obj.age + 5;\n",
    "const halfOfAge = obj.age / 2;\n",
    "const modulusOfAge = obj.age % 7;\n",
    "\n",
    "console.log(\"\\nMathematical Operations:\");\n",
    "console.log(\"In 5 years, \" + obj.name + \" will be \" + ageIn5Years + \" years old.\");\n",
    "console.log(\"Half of \" + obj.name + \"'s age is \" + halfOfAge + \".\");\n",
    "console.log(\"The modulus of \" + obj.name + \"'s age divided by 7 is \" + modulusOfAge + \".\");\n",
    "\n",
    "// Use typeof to determine types of fields\n",
    "const nameType = typeof obj.name;\n",
    "const ageType = typeof obj.age;\n",
    "const classType = typeof obj.currentClasses;\n",
    "const interestType = typeof obj.interests;\n",
    "\n",
    "console.log(\"\\nField Types:\");\n",
    "console.log(\"The type of 'name' field is \" + nameType + \".\");\n",
    "console.log(\"The type of 'age' field is \" + ageType + \".\");\n",
    "console.log(\"The type of 'currentClasses' field is \" + classType + \".\");\n",
    "console.log(\"The type of 'interests' field is \" + interestType + \".\");\n"
   ]
  }
 ],
 "metadata": {
  "kernelspec": {
   "display_name": "Python 3 (ipykernel)",
   "language": "python",
   "name": "python3"
  },
  "language_info": {
   "codemirror_mode": {
    "name": "ipython",
    "version": 3
   },
   "file_extension": ".py",
   "mimetype": "text/x-python",
   "name": "python",
   "nbconvert_exporter": "python",
   "pygments_lexer": "ipython3",
   "version": "3.11.5"
  }
 },
 "nbformat": 4,
 "nbformat_minor": 4
}
