{
 "cells": [
  {
   "attachments": {},
   "cell_type": "markdown",
   "metadata": {},
   "source": [
    "---\n",
    "comments: true\n",
    "layout: post\n",
    "title: Python Quiz\n",
    "description: Test your knowledge.\n",
    "type: hacks\n",
    "courses: { csse: {week: 0}, csp: {week: 3}, csa: {week: 0} }\n",
    "categories: [C4.1]\n",
    "---"
   ]
  },
  {
   "cell_type": "code",
   "execution_count": 4,
   "metadata": {},
   "outputs": [
    {
     "name": "stdout",
     "output_type": "stream",
     "text": [
      "What command is used to include other functions that were previously developed?\n",
      "1. Export\n",
      "2. Else\n",
      "3. Import\n",
      "4. IDK\n",
      "Correct!\n",
      "\n",
      "What command is used to evaluate correct or incorrect response in this example?\n",
      "1. And\n",
      "2. If\n",
      "3. Else\n",
      "4. Return\n",
      "Correct!\n",
      "\n",
      "Where is Del Norte High School located?\n",
      "1. Atlantic Ocean\n",
      "2. Escondido\n",
      "3. The Bronx\n",
      "4. Del Sur\n",
      "Correct!\n",
      "\n",
      "You scored 3/3.\n"
     ]
    }
   ],
   "source": [
    "class Question:\n",
    "    def __init__(self, question, choices, correct_choice):\n",
    "        self.question = question\n",
    "        self.choices = choices\n",
    "        self.correct_choice = correct_choice\n",
    "\n",
    "    def is_correct(self, choice):\n",
    "        return choice == self.correct_choice\n",
    "\n",
    "\n",
    "def run_quiz(questions):\n",
    "    score = 0\n",
    "    for question in questions:\n",
    "        print(question.question)\n",
    "        for i, choice in enumerate(question.choices, start=1):\n",
    "            print(f\"{i}. {choice}\")\n",
    "        user_choice = int(input(\"Enter the number of your choice: \"))\n",
    "        if question.is_correct(user_choice):\n",
    "            print(\"Correct!\\n\")\n",
    "            score += 1\n",
    "        else:\n",
    "            print(f\"Incorrect. The correct answer was {question.correct_choice}: {question.choices[question.correct_choice - 1]}\\n\")\n",
    "    \n",
    "    print(f\"You scored {score}/{len(questions)}.\")\n",
    "\n",
    "\n",
    "# Define your quiz questions here\n",
    "questions = [\n",
    "    Question(\"What command is used to include other functions that were previously developed?\", [\"Export\", \"Else\", \"Import\", \"IDK\"], 3),\n",
    "    Question(\"What command is used to evaluate correct or incorrect response in this example?\", [\"And\", \"If\", \"Else\", \"Return\"], 2),\n",
    "    Question(\"Where is Del Norte High School located?\", [\"Atlantic Ocean\", \"Escondido\", \"The Bronx\", \"Del Sur\"], 4)\n",
    "]\n",
    "\n",
    "# Run the quiz\n",
    "run_quiz(questions)\n"
   ]
  }
 ],
 "metadata": {
  "kernelspec": {
   "display_name": "Python 3 (ipykernel)",
   "language": "python",
   "name": "python3"
  },
  "language_info": {
   "codemirror_mode": {
    "name": "ipython",
    "version": 3
   },
   "file_extension": ".py",
   "mimetype": "text/x-python",
   "name": "python",
   "nbconvert_exporter": "python",
   "pygments_lexer": "ipython3",
   "version": "3.11.5"
  }
 },
 "nbformat": 4,
 "nbformat_minor": 2
}
