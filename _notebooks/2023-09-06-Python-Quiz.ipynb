{
 "cells": [
  {
   "attachments": {},
   "cell_type": "markdown",
   "metadata": {},
   "source": [
    "---\n",
    "comments: true\n",
    "layout: post\n",
    "title: Python Quiz\n",
    "description: Test your knowledge.\n",
    "type: hacks\n",
    "courses: { csse: {week: 0}, csp: {week: 3}, csa: {week: 0} }\n",
    "categories: [C4.1]\n",
    "---"
   ]
  },
  {
   "cell_type": "code",
   "execution_count": null,
   "metadata": {},
   "outputs": [],
   "source": [
    "class Question:\n",
    "    def __init__(self, question, choices, correct_choice):\n",
    "        self.question = question\n",
    "        self.choices = choices\n",
    "        self.correct_choice = correct_choice\n",
    "\n",
    "    def is_correct(self, choice):\n",
    "        return choice == self.correct_choice\n",
    "\n",
    "\n",
    "def run_quiz(questions):\n",
    "    score = 0\n",
    "    for question in questions:\n",
    "        print(question.question)\n",
    "        for i, choice in enumerate(question.choices, start=1):\n",
    "            print(f\"{i}. {choice}\")\n",
    "        user_choice = int(input(\"Enter the number of your choice: \"))\n",
    "        if question.is_correct(user_choice):\n",
    "            print(\"Correct!\\n\")\n",
    "            score += 1\n",
    "        else:\n",
    "            print(f\"Incorrect. The correct answer was {question.correct_choice}: {question.choices[question.correct_choice - 1]}\\n\")\n",
    "    \n",
    "    print(f\"You scored {score}/{len(questions)}.\")\n",
    "\n",
    "\n",
    "# Define your quiz questions here\n",
    "questions = [\n",
    "    Question(\"What is the capital of France?\", [\"London\", \"Berlin\", \"Paris\", \"Madrid\"], 3),\n",
    "    Question(\"Which planet is known as the 'Red Planet'?\", [\"Earth\", \"Mars\", \"Venus\", \"Jupiter\"], 2),\n",
    "    Question(\"What is the largest mammal in the world?\", [\"Elephant\", \"Blue Whale\", \"Giraffe\", \"Hippopotamus\"], 2)\n",
    "]\n",
    "\n",
    "# Run the quiz\n",
    "run_quiz(questions)\n"
   ]
  }
 ],
 "metadata": {
  "kernelspec": {
   "display_name": "Python 3 (ipykernel)",
   "language": "python",
   "name": "python3"
  },
  "language_info": {
   "codemirror_mode": {
    "name": "ipython",
    "version": 3
   },
   "file_extension": ".py",
   "mimetype": "text/x-python",
   "name": "python",
   "nbconvert_exporter": "python",
   "pygments_lexer": "ipython3",
   "version": "3.9.12"
  }
 },
 "nbformat": 4,
 "nbformat_minor": 2
}
