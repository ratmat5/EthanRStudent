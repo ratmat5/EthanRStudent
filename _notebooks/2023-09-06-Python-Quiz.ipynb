{
 "cells": [
  {
   "attachments": {},
   "cell_type": "markdown",
   "metadata": {},
   "source": [
    "---\n",
    "comments: true\n",
    "layout: post\n",
    "title: Python Quiz\n",
    "description: Test your knowledge.\n",
    "type: hacks\n",
    "courses: { csse: {week: 0}, csp: {week: 3}, csa: {week: 0} }\n",
    "categories: [C4.1]\n",
    "---"
   ]
  },
  {
   "cell_type": "code",
   "execution_count": 1,
   "metadata": {},
   "outputs": [
    {
     "name": "stdout",
     "output_type": "stream",
     "text": [
      "What is the capital of France?\n",
      "1. London\n",
      "2. Berlin\n",
      "3. Paris\n",
      "4. Madrid\n",
      "Correct!\n",
      "\n",
      "Which planet is known as the 'Red Planet'?\n",
      "1. Earth\n",
      "2. Mars\n",
      "3. Venus\n",
      "4. Jupiter\n"
     ]
    },
    {
     "ename": "ValueError",
     "evalue": "invalid literal for int() with base 10: ''",
     "output_type": "error",
     "traceback": [
      "\u001b[0;31m---------------------------------------------------------------------------\u001b[0m",
      "\u001b[0;31mValueError\u001b[0m                                Traceback (most recent call last)",
      "Cell \u001b[0;32mIn[1], line 35\u001b[0m\n\u001b[1;32m     28\u001b[0m questions \u001b[39m=\u001b[39m [\n\u001b[1;32m     29\u001b[0m     Question(\u001b[39m\"\u001b[39m\u001b[39mWhat is the capital of France?\u001b[39m\u001b[39m\"\u001b[39m, [\u001b[39m\"\u001b[39m\u001b[39mLondon\u001b[39m\u001b[39m\"\u001b[39m, \u001b[39m\"\u001b[39m\u001b[39mBerlin\u001b[39m\u001b[39m\"\u001b[39m, \u001b[39m\"\u001b[39m\u001b[39mParis\u001b[39m\u001b[39m\"\u001b[39m, \u001b[39m\"\u001b[39m\u001b[39mMadrid\u001b[39m\u001b[39m\"\u001b[39m], \u001b[39m3\u001b[39m),\n\u001b[1;32m     30\u001b[0m     Question(\u001b[39m\"\u001b[39m\u001b[39mWhich planet is known as the \u001b[39m\u001b[39m'\u001b[39m\u001b[39mRed Planet\u001b[39m\u001b[39m'\u001b[39m\u001b[39m?\u001b[39m\u001b[39m\"\u001b[39m, [\u001b[39m\"\u001b[39m\u001b[39mEarth\u001b[39m\u001b[39m\"\u001b[39m, \u001b[39m\"\u001b[39m\u001b[39mMars\u001b[39m\u001b[39m\"\u001b[39m, \u001b[39m\"\u001b[39m\u001b[39mVenus\u001b[39m\u001b[39m\"\u001b[39m, \u001b[39m\"\u001b[39m\u001b[39mJupiter\u001b[39m\u001b[39m\"\u001b[39m], \u001b[39m2\u001b[39m),\n\u001b[1;32m     31\u001b[0m     Question(\u001b[39m\"\u001b[39m\u001b[39mWhat is the largest mammal in the world?\u001b[39m\u001b[39m\"\u001b[39m, [\u001b[39m\"\u001b[39m\u001b[39mElephant\u001b[39m\u001b[39m\"\u001b[39m, \u001b[39m\"\u001b[39m\u001b[39mBlue Whale\u001b[39m\u001b[39m\"\u001b[39m, \u001b[39m\"\u001b[39m\u001b[39mGiraffe\u001b[39m\u001b[39m\"\u001b[39m, \u001b[39m\"\u001b[39m\u001b[39mHippopotamus\u001b[39m\u001b[39m\"\u001b[39m], \u001b[39m2\u001b[39m)\n\u001b[1;32m     32\u001b[0m ]\n\u001b[1;32m     34\u001b[0m \u001b[39m# Run the quiz\u001b[39;00m\n\u001b[0;32m---> 35\u001b[0m run_quiz(questions)\n",
      "Cell \u001b[0;32mIn[1], line 17\u001b[0m, in \u001b[0;36mrun_quiz\u001b[0;34m(questions)\u001b[0m\n\u001b[1;32m     15\u001b[0m \u001b[39mfor\u001b[39;00m i, choice \u001b[39min\u001b[39;00m \u001b[39menumerate\u001b[39m(question\u001b[39m.\u001b[39mchoices, start\u001b[39m=\u001b[39m\u001b[39m1\u001b[39m):\n\u001b[1;32m     16\u001b[0m     \u001b[39mprint\u001b[39m(\u001b[39mf\u001b[39m\u001b[39m\"\u001b[39m\u001b[39m{\u001b[39;00mi\u001b[39m}\u001b[39;00m\u001b[39m. \u001b[39m\u001b[39m{\u001b[39;00mchoice\u001b[39m}\u001b[39;00m\u001b[39m\"\u001b[39m)\n\u001b[0;32m---> 17\u001b[0m user_choice \u001b[39m=\u001b[39m \u001b[39mint\u001b[39;49m(\u001b[39minput\u001b[39;49m(\u001b[39m\"\u001b[39;49m\u001b[39mEnter the number of your choice: \u001b[39;49m\u001b[39m\"\u001b[39;49m))\n\u001b[1;32m     18\u001b[0m \u001b[39mif\u001b[39;00m question\u001b[39m.\u001b[39mis_correct(user_choice):\n\u001b[1;32m     19\u001b[0m     \u001b[39mprint\u001b[39m(\u001b[39m\"\u001b[39m\u001b[39mCorrect!\u001b[39m\u001b[39m\\n\u001b[39;00m\u001b[39m\"\u001b[39m)\n",
      "\u001b[0;31mValueError\u001b[0m: invalid literal for int() with base 10: ''"
     ]
    }
   ],
   "source": [
    "class Question:\n",
    "    def __init__(self, question, choices, correct_choice):\n",
    "        self.question = question\n",
    "        self.choices = choices\n",
    "        self.correct_choice = correct_choice\n",
    "\n",
    "    def is_correct(self, choice):\n",
    "        return choice == self.correct_choice\n",
    "\n",
    "\n",
    "def run_quiz(questions):\n",
    "    score = 0\n",
    "    for question in questions:\n",
    "        print(question.question)\n",
    "        for i, choice in enumerate(question.choices, start=1):\n",
    "            print(f\"{i}. {choice}\")\n",
    "        user_choice = int(input(\"Enter the number of your choice: \"))\n",
    "        if question.is_correct(user_choice):\n",
    "            print(\"Correct!\\n\")\n",
    "            score += 1\n",
    "        else:\n",
    "            print(f\"Incorrect. The correct answer was {question.correct_choice}: {question.choices[question.correct_choice - 1]}\\n\")\n",
    "    \n",
    "    print(f\"You scored {score}/{len(questions)}.\")\n",
    "\n",
    "\n",
    "# Define your quiz questions here\n",
    "questions = [\n",
    "    Question(\"What is the capital of France?\", [\"London\", \"Berlin\", \"Paris\", \"Madrid\"], 3),\n",
    "    Question(\"Which planet is known as the 'Red Planet'?\", [\"Earth\", \"Mars\", \"Venus\", \"Jupiter\"], 2),\n",
    "    Question(\"What is the largest mammal in the world?\", [\"Elephant\", \"Blue Whale\", \"Giraffe\", \"Hippopotamus\"], 2)\n",
    "]\n",
    "\n",
    "# Run the quiz\n",
    "run_quiz(questions)\n"
   ]
  }
 ],
 "metadata": {
  "kernelspec": {
   "display_name": "Python 3 (ipykernel)",
   "language": "python",
   "name": "python3"
  },
  "language_info": {
   "codemirror_mode": {
    "name": "ipython",
    "version": 3
   },
   "file_extension": ".py",
   "mimetype": "text/x-python",
   "name": "python",
   "nbconvert_exporter": "python",
   "pygments_lexer": "ipython3",
   "version": "3.11.5"
  }
 },
 "nbformat": 4,
 "nbformat_minor": 2
}
