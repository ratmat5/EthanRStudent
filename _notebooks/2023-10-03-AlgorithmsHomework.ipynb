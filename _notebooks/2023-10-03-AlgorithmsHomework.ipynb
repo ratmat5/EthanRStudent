{
 "cells": [
  {
   "cell_type": "markdown",
   "metadata": {},
   "source": [
    "---\n",
    "toc: true\n",
    "comments: true\n",
    "layout: post\n",
    "title: Homework problems Data Abstractions\n",
    "type: hacks\n",
    "courses: { csp: {week: 6} }\n",
    "---\n",
    "\n",
    "### Introduction\n",
    "- Here is the homework prompt"
   ]
  },
  {
   "cell_type": "code",
   "execution_count": 1,
   "metadata": {},
   "outputs": [
    {
     "name": "stdout",
     "output_type": "stream",
     "text": [
      "Text Analysis Results:\n",
      "Total # of characters (including spaces + numbers): 1\n",
      "Total vowels: 0\n",
      "Average word length: 1.00\n"
     ]
    }
   ],
   "source": [
    "def text_analyzer(text):\n",
    "    # Convert the input text to lowercase for case-insensitive analysis\n",
    "    text = text.lower()\n",
    "\n",
    "    # Count the total number of characters, including spaces and numbers\n",
    "    total_characters = len(text)\n",
    "\n",
    "    # Count the total number of vowels (a, e, i, o, u)\n",
    "    vowels = \"aeiou\"\n",
    "    total_vowels = sum(1 for char in text if char in vowels)\n",
    "\n",
    "    # Split the text into words and calculate the average word length\n",
    "    words = text.split()\n",
    "    total_words = len(words)\n",
    "    total_word_length = sum(len(word) for word in words)\n",
    "    \n",
    "    if total_words > 0:\n",
    "        average_word_length = total_word_length / total_words\n",
    "    else:\n",
    "        average_word_length = 0\n",
    "\n",
    "    # Display the results\n",
    "    print(\"Text Analysis Results:\")\n",
    "    print(f\"Total # of characters (including spaces + numbers): {total_characters}\")\n",
    "    print(f\"Total vowels: {total_vowels}\")\n",
    "    print(f\"Average word length: {average_word_length:.2f}\")\n",
    "\n",
    "# Accept user input\n",
    "user_input = input(\"Enter a text for analysis: \")\n",
    "\n",
    "# Call the text_analyzer function with the user's input\n",
    "text_analyzer(user_input)\n"
   ]
  }
 ],
 "metadata": {
  "kernelspec": {
   "display_name": "Python 3",
   "language": "python",
   "name": "python3"
  },
  "language_info": {
   "codemirror_mode": {
    "name": "ipython",
    "version": 3
   },
   "file_extension": ".py",
   "mimetype": "text/x-python",
   "name": "python",
   "nbconvert_exporter": "python",
   "pygments_lexer": "ipython3",
   "version": "3.11.5"
  },
  "orig_nbformat": 4
 },
 "nbformat": 4,
 "nbformat_minor": 2
}
